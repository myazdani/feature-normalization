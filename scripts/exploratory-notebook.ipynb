{
 "cells": [
  {
   "cell_type": "code",
   "execution_count": 1,
   "metadata": {
    "collapsed": true
   },
   "outputs": [],
   "source": [
    "import os\n",
    "import sys\n",
    "import csv\n",
    "import numpy \n",
    "import pandas\n",
    "from sklearn.preprocessing import normalize"
   ]
  },
  {
   "cell_type": "code",
   "execution_count": 67,
   "metadata": {
    "collapsed": true
   },
   "outputs": [],
   "source": [
    "in_file = \"/Users/myazdaniUCSD/Dropbox/CALIT2DATA/Benchmark/data/sample30K.csv\"\n",
    "out_file = \"/Users/myazdaniUCSD/Desktop/samle_modes.csv\""
   ]
  },
  {
   "cell_type": "code",
   "execution_count": 55,
   "metadata": {
    "collapsed": true
   },
   "outputs": [],
   "source": [
    "## specify ID column:\n",
    "id_col = 0\n",
    "\n",
    "## specify feature columns:\n",
    "hue_cols = range(1,181)\n",
    "sat_cols = range(181,181+256)\n",
    "val_cols = range(181+256, 181 + 2*256)"
   ]
  },
  {
   "cell_type": "code",
   "execution_count": 53,
   "metadata": {
    "collapsed": false
   },
   "outputs": [],
   "source": [
    "data = pandas.read_csv(in_file, sep = \",\", header = None)"
   ]
  },
  {
   "cell_type": "code",
   "execution_count": 64,
   "metadata": {
    "collapsed": false
   },
   "outputs": [],
   "source": [
    "hue_mode = numpy.argmax(numpy.array(data.ix[1:,hue_cols], dtype = float), axis = 1)\n",
    "sat_mode = numpy.argmax(numpy.array(data.ix[1:,sat_cols], dtype = float), axis = 1)\n",
    "val_mode = numpy.argmax(numpy.array(data.ix[1:,val_cols], dtype = float), axis = 1)"
   ]
  },
  {
   "cell_type": "code",
   "execution_count": 65,
   "metadata": {
    "collapsed": false
   },
   "outputs": [],
   "source": [
    "filenames = data.ix[1:,0]"
   ]
  },
  {
   "cell_type": "code",
   "execution_count": 68,
   "metadata": {
    "collapsed": false
   },
   "outputs": [],
   "source": [
    "f = open(out_file, 'wt')\n",
    "try:\n",
    "    writer = csv.writer(f)\n",
    "    writer.writerow( ('Filename', 'H.mode', 'S.mode', 'V.mode') )\n",
    "    for i, filename in enumerate(filenames):\n",
    "        writer.writerow( (filename, hue_mode[i], sat_mode[i], val_mode[i]) )\n",
    "finally:\n",
    "    f.close()"
   ]
  },
  {
   "cell_type": "code",
   "execution_count": null,
   "metadata": {
    "collapsed": true
   },
   "outputs": [],
   "source": []
  }
 ],
 "metadata": {
  "kernelspec": {
   "display_name": "Python 2",
   "language": "python",
   "name": "python2"
  },
  "language_info": {
   "codemirror_mode": {
    "name": "ipython",
    "version": 2
   },
   "file_extension": ".py",
   "mimetype": "text/x-python",
   "name": "python",
   "nbconvert_exporter": "python",
   "pygments_lexer": "ipython2",
   "version": "2.7.9"
  }
 },
 "nbformat": 4,
 "nbformat_minor": 0
}
